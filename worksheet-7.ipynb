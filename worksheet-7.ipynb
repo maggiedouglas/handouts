{
 "cells": [
  {
   "cell_type": "markdown",
   "metadata": {},
   "source": [
    "### Variables"
   ]
  },
  {
   "cell_type": "code",
   "execution_count": 1,
   "metadata": {
    "collapsed": true
   },
   "outputs": [
    {
     "data": {
      "text/plain": [
       "'xyz'"
      ]
     },
     "execution_count": 1,
     "metadata": {},
     "output_type": "execute_result"
    }
   ],
   "source": [
    "a = 'xyz'\n",
    "a"
   ]
  },
  {
   "cell_type": "code",
   "execution_count": 4,
   "metadata": {},
   "outputs": [
    {
     "data": {
      "text/plain": [
       "True"
      ]
     },
     "execution_count": 4,
     "metadata": {},
     "output_type": "execute_result"
    }
   ],
   "source": [
    "a is 'xyz'"
   ]
  },
  {
   "cell_type": "markdown",
   "metadata": {},
   "source": [
    "### Equal but not the Same"
   ]
  },
  {
   "cell_type": "code",
   "execution_count": 5,
   "metadata": {
    "collapsed": true
   },
   "outputs": [
    {
     "data": {
      "text/plain": [
       "140031436528008"
      ]
     },
     "execution_count": 5,
     "metadata": {},
     "output_type": "execute_result"
    }
   ],
   "source": [
    "b = [1, 2, 3]\n",
    "id(b)"
   ]
  },
  {
   "cell_type": "code",
   "execution_count": null,
   "metadata": {},
   "outputs": [],
   "source": [
    "[1, 2, 3]"
   ]
  },
  {
   "cell_type": "markdown",
   "metadata": {},
   "source": [
    "### Side-effects"
   ]
  },
  {
   "cell_type": "code",
   "execution_count": 11,
   "metadata": {},
   "outputs": [
    {
     "data": {
      "text/plain": [
       "<function list.pop>"
      ]
     },
     "execution_count": 11,
     "metadata": {},
     "output_type": "execute_result"
    }
   ],
   "source": [
    "c = b\n",
    "b.pop"
   ]
  },
  {
   "cell_type": "markdown",
   "metadata": {},
   "source": [
    "### Data types"
   ]
  },
  {
   "cell_type": "code",
   "execution_count": 13,
   "metadata": {
    "collapsed": true
   },
   "outputs": [
    {
     "data": {
      "text/plain": [
       "str"
      ]
     },
     "execution_count": 13,
     "metadata": {},
     "output_type": "execute_result"
    }
   ],
   "source": [
    "type('x')"
   ]
  },
  {
   "cell_type": "markdown",
   "metadata": {},
   "source": [
    "### Operators"
   ]
  },
  {
   "cell_type": "code",
   "execution_count": 15,
   "metadata": {},
   "outputs": [
    {
     "data": {
      "text/plain": [
       "78125"
      ]
     },
     "execution_count": 15,
     "metadata": {},
     "output_type": "execute_result"
    }
   ],
   "source": [
    "5 ** 7"
   ]
  },
  {
   "cell_type": "code",
   "execution_count": 16,
   "metadata": {},
   "outputs": [
    {
     "data": {
      "text/plain": [
       "0"
      ]
     },
     "execution_count": 16,
     "metadata": {},
     "output_type": "execute_result"
    }
   ],
   "source": [
    "2 // 3"
   ]
  },
  {
   "cell_type": "code",
   "execution_count": 17,
   "metadata": {},
   "outputs": [
    {
     "data": {
      "text/plain": [
       "'xyzxyz'"
      ]
     },
     "execution_count": 17,
     "metadata": {},
     "output_type": "execute_result"
    }
   ],
   "source": [
    "a * 2"
   ]
  },
  {
   "cell_type": "markdown",
   "metadata": {},
   "source": [
    "### Data structures"
   ]
  },
  {
   "cell_type": "code",
   "execution_count": 18,
   "metadata": {
    "collapsed": true
   },
   "outputs": [
    {
     "data": {
      "text/plain": [
       "tuple"
      ]
     },
     "execution_count": 18,
     "metadata": {},
     "output_type": "execute_result"
    }
   ],
   "source": [
    "T = 'x', 3, True\n",
    "type(T)"
   ]
  },
  {
   "cell_type": "code",
   "execution_count": 22,
   "metadata": {
    "collapsed": true
   },
   "outputs": [
    {
     "data": {
      "text/plain": [
       "tuple"
      ]
     },
     "execution_count": 22,
     "metadata": {},
     "output_type": "execute_result"
    }
   ],
   "source": [
    "T = 'cat',\n",
    "type(T)"
   ]
  },
  {
   "cell_type": "code",
   "execution_count": 23,
   "metadata": {},
   "outputs": [
    {
     "data": {
      "text/plain": [
       "list"
      ]
     },
     "execution_count": 23,
     "metadata": {},
     "output_type": "execute_result"
    }
   ],
   "source": [
    "L = [3.14, 'xyz', T]\n",
    "type(L)"
   ]
  },
  {
   "cell_type": "code",
   "execution_count": 27,
   "metadata": {
    "collapsed": true
   },
   "outputs": [
    {
     "data": {
      "text/plain": [
       "{('cat',), 'xyz'}"
      ]
     },
     "execution_count": 27,
     "metadata": {},
     "output_type": "execute_result"
    }
   ],
   "source": [
    "S1 = set(L)\n",
    "S2 = {3.14, 'z'}\n",
    "S1.difference(S2)"
   ]
  },
  {
   "cell_type": "code",
   "execution_count": 28,
   "metadata": {
    "collapsed": true
   },
   "outputs": [
    {
     "data": {
      "text/plain": [
       "dict"
      ]
     },
     "execution_count": 28,
     "metadata": {},
     "output_type": "execute_result"
    }
   ],
   "source": [
    "user = {\n",
    "  'First Name': 'Maggie',\n",
    "  'Last Name': 'Douglas',\n",
    "  'Email': 'douglasm@dickinson.edu',\n",
    "}\n",
    "type(user)"
   ]
  },
  {
   "cell_type": "code",
   "execution_count": 33,
   "metadata": {},
   "outputs": [],
   "source": [
    "user['Age'] = 35"
   ]
  },
  {
   "cell_type": "markdown",
   "metadata": {},
   "source": [
    "### Flow control"
   ]
  },
  {
   "cell_type": "markdown",
   "metadata": {},
   "source": [
    "Flow control relates to 'if then' tests; spacing matters! Indent says what should be in the loop; ending indentation says end of the loop. This code appends j to squares. Notice that there are four items - range creates numbers 1-4"
   ]
  },
  {
   "cell_type": "code",
   "execution_count": 39,
   "metadata": {
    "collapsed": true
   },
   "outputs": [
    {
     "data": {
      "text/plain": [
       "[1, 4, 9, 16]"
      ]
     },
     "execution_count": 39,
     "metadata": {},
     "output_type": "execute_result"
    }
   ],
   "source": [
    "squares = []\n",
    "for i in range(1, 5):\n",
    "    j = i ** 2\n",
    "    squares.append(j)\n",
    "len(squares)\n",
    "squares"
   ]
  },
  {
   "cell_type": "code",
   "execution_count": 40,
   "metadata": {
    "collapsed": true
   },
   "outputs": [
    {
     "name": "stdout",
     "output_type": "stream",
     "text": [
      "alice@email.com\n",
      "\n"
     ]
    }
   ],
   "source": [
    "users = [\n",
    "    {'Name':'Alice', 'Email':'alice@email.com'},\n",
    "    {'Name':'Bob', 'Email': 'bob@email.com'},\n",
    "    ]\n",
    "for u in users:\n",
    "    if u['Name'] == 'Alice':\n",
    "        print(u['Email'])\n",
    "    else:\n",
    "        print('')"
   ]
  },
  {
   "cell_type": "markdown",
   "metadata": {},
   "source": [
    "### Methods"
   ]
  },
  {
   "cell_type": "markdown",
   "metadata": {},
   "source": [
    "Periods are special syntax in python - accesses attributes and methods. Using help(squares.index) tells you what the function is doing."
   ]
  },
  {
   "cell_type": "code",
   "execution_count": 41,
   "metadata": {},
   "outputs": [
    {
     "data": {
      "text/plain": [
       "1"
      ]
     },
     "execution_count": 41,
     "metadata": {},
     "output_type": "execute_result"
    }
   ],
   "source": [
    "squares.index(4)"
   ]
  },
  {
   "cell_type": "code",
   "execution_count": 44,
   "metadata": {},
   "outputs": [
    {
     "data": {
      "text/plain": [
       "{'Age': 24,\n",
       " 'Email': 'douglasm@dickinson.edu',\n",
       " 'First Name': 'Maggie',\n",
       " 'Last Name': 'Douglas',\n",
       " 'Nickname': 'Jamie'}"
      ]
     },
     "execution_count": 44,
     "metadata": {},
     "output_type": "execute_result"
    }
   ],
   "source": [
    "user.update({\n",
    "    'Nickname':'Jamie',\n",
    "    'Age': 24,\n",
    "    })\n",
    "user"
   ]
  },
  {
   "cell_type": "markdown",
   "metadata": {},
   "source": [
    "### Pandas"
   ]
  },
  {
   "cell_type": "markdown",
   "metadata": {},
   "source": [
    "Main way to work with spreadsheet type data in Python. Default directory is the directory the notebook is stored in. Other directories can be pointed to relative to that."
   ]
  },
  {
   "cell_type": "code",
   "execution_count": 45,
   "metadata": {
    "collapsed": true,
    "scrolled": true
   },
   "outputs": [
    {
     "data": {
      "text/plain": [
       "FIPSTATE     int64\n",
       "FIPSCTY      int64\n",
       "NAICS       object\n",
       "EMPFLAG     object\n",
       "EMP_NF      object\n",
       "EMP          int64\n",
       "QP1_NF      object\n",
       "QP1          int64\n",
       "AP_NF       object\n",
       "AP           int64\n",
       "EST          int64\n",
       "N1_4         int64\n",
       "N5_9         int64\n",
       "N10_19       int64\n",
       "N20_49       int64\n",
       "N50_99       int64\n",
       "N100_249     int64\n",
       "N250_499     int64\n",
       "N500_999     int64\n",
       "N1000        int64\n",
       "N1000_1      int64\n",
       "N1000_2      int64\n",
       "N1000_3      int64\n",
       "N1000_4      int64\n",
       "CENSTATE     int64\n",
       "CENCTY       int64\n",
       "dtype: object"
      ]
     },
     "execution_count": 45,
     "metadata": {},
     "output_type": "execute_result"
    }
   ],
   "source": [
    "import pandas as pd\n",
    "cbp = pd.read_csv(\"data/cbp15co.csv\")\n",
    "cbp.dtypes"
   ]
  },
  {
   "cell_type": "code",
   "execution_count": 46,
   "metadata": {
    "collapsed": true
   },
   "outputs": [
    {
     "data": {
      "text/plain": [
       "FIPSTATE    object\n",
       "FIPSCTY     object\n",
       "NAICS       object\n",
       "EMPFLAG     object\n",
       "EMP_NF      object\n",
       "EMP          int64\n",
       "QP1_NF      object\n",
       "QP1          int64\n",
       "AP_NF       object\n",
       "AP           int64\n",
       "EST          int64\n",
       "N1_4         int64\n",
       "N5_9         int64\n",
       "N10_19       int64\n",
       "N20_49       int64\n",
       "N50_99       int64\n",
       "N100_249     int64\n",
       "N250_499     int64\n",
       "N500_999     int64\n",
       "N1000        int64\n",
       "N1000_1      int64\n",
       "N1000_2      int64\n",
       "N1000_3      int64\n",
       "N1000_4      int64\n",
       "CENSTATE     int64\n",
       "CENCTY       int64\n",
       "dtype: object"
      ]
     },
     "execution_count": 46,
     "metadata": {},
     "output_type": "execute_result"
    }
   ],
   "source": [
    "cbp = pd.read_csv(\n",
    "    'data/cbp15co.csv',\n",
    "    dtype = {'FIPSTATE': 'str', 'FIPSCTY': 'str'}\n",
    ")\n",
    "cbp.dtypes"
   ]
  },
  {
   "cell_type": "code",
   "execution_count": 47,
   "metadata": {
    "collapsed": true
   },
   "outputs": [
    {
     "data": {
      "text/html": [
       "<div>\n",
       "<style scoped>\n",
       "    .dataframe tbody tr th:only-of-type {\n",
       "        vertical-align: middle;\n",
       "    }\n",
       "\n",
       "    .dataframe tbody tr th {\n",
       "        vertical-align: top;\n",
       "    }\n",
       "\n",
       "    .dataframe thead th {\n",
       "        text-align: right;\n",
       "    }\n",
       "</style>\n",
       "<table border=\"1\" class=\"dataframe\">\n",
       "  <thead>\n",
       "    <tr style=\"text-align: right;\">\n",
       "      <th></th>\n",
       "      <th>FIPSTATE</th>\n",
       "      <th>NAICS</th>\n",
       "    </tr>\n",
       "  </thead>\n",
       "  <tbody>\n",
       "    <tr>\n",
       "      <th>0</th>\n",
       "      <td>01</td>\n",
       "      <td>------</td>\n",
       "    </tr>\n",
       "    <tr>\n",
       "      <th>1</th>\n",
       "      <td>01</td>\n",
       "      <td>11----</td>\n",
       "    </tr>\n",
       "    <tr>\n",
       "      <th>2</th>\n",
       "      <td>01</td>\n",
       "      <td>113///</td>\n",
       "    </tr>\n",
       "    <tr>\n",
       "      <th>3</th>\n",
       "      <td>01</td>\n",
       "      <td>1133//</td>\n",
       "    </tr>\n",
       "    <tr>\n",
       "      <th>4</th>\n",
       "      <td>01</td>\n",
       "      <td>11331/</td>\n",
       "    </tr>\n",
       "    <tr>\n",
       "      <th>5</th>\n",
       "      <td>01</td>\n",
       "      <td>113310</td>\n",
       "    </tr>\n",
       "    <tr>\n",
       "      <th>6</th>\n",
       "      <td>01</td>\n",
       "      <td>115///</td>\n",
       "    </tr>\n",
       "    <tr>\n",
       "      <th>7</th>\n",
       "      <td>01</td>\n",
       "      <td>1151//</td>\n",
       "    </tr>\n",
       "    <tr>\n",
       "      <th>8</th>\n",
       "      <td>01</td>\n",
       "      <td>11511/</td>\n",
       "    </tr>\n",
       "    <tr>\n",
       "      <th>9</th>\n",
       "      <td>01</td>\n",
       "      <td>115112</td>\n",
       "    </tr>\n",
       "    <tr>\n",
       "      <th>10</th>\n",
       "      <td>01</td>\n",
       "      <td>21----</td>\n",
       "    </tr>\n",
       "    <tr>\n",
       "      <th>11</th>\n",
       "      <td>01</td>\n",
       "      <td>212///</td>\n",
       "    </tr>\n",
       "    <tr>\n",
       "      <th>12</th>\n",
       "      <td>01</td>\n",
       "      <td>2123//</td>\n",
       "    </tr>\n",
       "    <tr>\n",
       "      <th>13</th>\n",
       "      <td>01</td>\n",
       "      <td>21231/</td>\n",
       "    </tr>\n",
       "    <tr>\n",
       "      <th>14</th>\n",
       "      <td>01</td>\n",
       "      <td>212319</td>\n",
       "    </tr>\n",
       "    <tr>\n",
       "      <th>15</th>\n",
       "      <td>01</td>\n",
       "      <td>21232/</td>\n",
       "    </tr>\n",
       "    <tr>\n",
       "      <th>16</th>\n",
       "      <td>01</td>\n",
       "      <td>212321</td>\n",
       "    </tr>\n",
       "    <tr>\n",
       "      <th>17</th>\n",
       "      <td>01</td>\n",
       "      <td>22----</td>\n",
       "    </tr>\n",
       "    <tr>\n",
       "      <th>18</th>\n",
       "      <td>01</td>\n",
       "      <td>221///</td>\n",
       "    </tr>\n",
       "    <tr>\n",
       "      <th>19</th>\n",
       "      <td>01</td>\n",
       "      <td>2211//</td>\n",
       "    </tr>\n",
       "    <tr>\n",
       "      <th>20</th>\n",
       "      <td>01</td>\n",
       "      <td>22111/</td>\n",
       "    </tr>\n",
       "    <tr>\n",
       "      <th>21</th>\n",
       "      <td>01</td>\n",
       "      <td>221112</td>\n",
       "    </tr>\n",
       "    <tr>\n",
       "      <th>22</th>\n",
       "      <td>01</td>\n",
       "      <td>22112/</td>\n",
       "    </tr>\n",
       "    <tr>\n",
       "      <th>23</th>\n",
       "      <td>01</td>\n",
       "      <td>221122</td>\n",
       "    </tr>\n",
       "    <tr>\n",
       "      <th>24</th>\n",
       "      <td>01</td>\n",
       "      <td>2213//</td>\n",
       "    </tr>\n",
       "    <tr>\n",
       "      <th>25</th>\n",
       "      <td>01</td>\n",
       "      <td>22131/</td>\n",
       "    </tr>\n",
       "    <tr>\n",
       "      <th>26</th>\n",
       "      <td>01</td>\n",
       "      <td>221310</td>\n",
       "    </tr>\n",
       "    <tr>\n",
       "      <th>27</th>\n",
       "      <td>01</td>\n",
       "      <td>23----</td>\n",
       "    </tr>\n",
       "    <tr>\n",
       "      <th>28</th>\n",
       "      <td>01</td>\n",
       "      <td>236///</td>\n",
       "    </tr>\n",
       "    <tr>\n",
       "      <th>29</th>\n",
       "      <td>01</td>\n",
       "      <td>2361//</td>\n",
       "    </tr>\n",
       "    <tr>\n",
       "      <th>...</th>\n",
       "      <td>...</td>\n",
       "      <td>...</td>\n",
       "    </tr>\n",
       "    <tr>\n",
       "      <th>2126571</th>\n",
       "      <td>56</td>\n",
       "      <td>611///</td>\n",
       "    </tr>\n",
       "    <tr>\n",
       "      <th>2126572</th>\n",
       "      <td>56</td>\n",
       "      <td>6113//</td>\n",
       "    </tr>\n",
       "    <tr>\n",
       "      <th>2126573</th>\n",
       "      <td>56</td>\n",
       "      <td>61131/</td>\n",
       "    </tr>\n",
       "    <tr>\n",
       "      <th>2126574</th>\n",
       "      <td>56</td>\n",
       "      <td>611310</td>\n",
       "    </tr>\n",
       "    <tr>\n",
       "      <th>2126575</th>\n",
       "      <td>56</td>\n",
       "      <td>6117//</td>\n",
       "    </tr>\n",
       "    <tr>\n",
       "      <th>2126576</th>\n",
       "      <td>56</td>\n",
       "      <td>61171/</td>\n",
       "    </tr>\n",
       "    <tr>\n",
       "      <th>2126577</th>\n",
       "      <td>56</td>\n",
       "      <td>611710</td>\n",
       "    </tr>\n",
       "    <tr>\n",
       "      <th>2126578</th>\n",
       "      <td>56</td>\n",
       "      <td>62----</td>\n",
       "    </tr>\n",
       "    <tr>\n",
       "      <th>2126579</th>\n",
       "      <td>56</td>\n",
       "      <td>621///</td>\n",
       "    </tr>\n",
       "    <tr>\n",
       "      <th>2126580</th>\n",
       "      <td>56</td>\n",
       "      <td>6213//</td>\n",
       "    </tr>\n",
       "    <tr>\n",
       "      <th>2126581</th>\n",
       "      <td>56</td>\n",
       "      <td>62134/</td>\n",
       "    </tr>\n",
       "    <tr>\n",
       "      <th>2126582</th>\n",
       "      <td>56</td>\n",
       "      <td>621340</td>\n",
       "    </tr>\n",
       "    <tr>\n",
       "      <th>2126583</th>\n",
       "      <td>56</td>\n",
       "      <td>6214//</td>\n",
       "    </tr>\n",
       "    <tr>\n",
       "      <th>2126584</th>\n",
       "      <td>56</td>\n",
       "      <td>62142/</td>\n",
       "    </tr>\n",
       "    <tr>\n",
       "      <th>2126585</th>\n",
       "      <td>56</td>\n",
       "      <td>621420</td>\n",
       "    </tr>\n",
       "    <tr>\n",
       "      <th>2126586</th>\n",
       "      <td>56</td>\n",
       "      <td>6216//</td>\n",
       "    </tr>\n",
       "    <tr>\n",
       "      <th>2126587</th>\n",
       "      <td>56</td>\n",
       "      <td>62161/</td>\n",
       "    </tr>\n",
       "    <tr>\n",
       "      <th>2126588</th>\n",
       "      <td>56</td>\n",
       "      <td>621610</td>\n",
       "    </tr>\n",
       "    <tr>\n",
       "      <th>2126589</th>\n",
       "      <td>56</td>\n",
       "      <td>6219//</td>\n",
       "    </tr>\n",
       "    <tr>\n",
       "      <th>2126590</th>\n",
       "      <td>56</td>\n",
       "      <td>62199/</td>\n",
       "    </tr>\n",
       "    <tr>\n",
       "      <th>2126591</th>\n",
       "      <td>56</td>\n",
       "      <td>621999</td>\n",
       "    </tr>\n",
       "    <tr>\n",
       "      <th>2126592</th>\n",
       "      <td>56</td>\n",
       "      <td>81----</td>\n",
       "    </tr>\n",
       "    <tr>\n",
       "      <th>2126593</th>\n",
       "      <td>56</td>\n",
       "      <td>812///</td>\n",
       "    </tr>\n",
       "    <tr>\n",
       "      <th>2126594</th>\n",
       "      <td>56</td>\n",
       "      <td>8129//</td>\n",
       "    </tr>\n",
       "    <tr>\n",
       "      <th>2126595</th>\n",
       "      <td>56</td>\n",
       "      <td>81299/</td>\n",
       "    </tr>\n",
       "    <tr>\n",
       "      <th>2126596</th>\n",
       "      <td>56</td>\n",
       "      <td>812990</td>\n",
       "    </tr>\n",
       "    <tr>\n",
       "      <th>2126597</th>\n",
       "      <td>56</td>\n",
       "      <td>813///</td>\n",
       "    </tr>\n",
       "    <tr>\n",
       "      <th>2126598</th>\n",
       "      <td>56</td>\n",
       "      <td>8133//</td>\n",
       "    </tr>\n",
       "    <tr>\n",
       "      <th>2126599</th>\n",
       "      <td>56</td>\n",
       "      <td>81331/</td>\n",
       "    </tr>\n",
       "    <tr>\n",
       "      <th>2126600</th>\n",
       "      <td>56</td>\n",
       "      <td>813312</td>\n",
       "    </tr>\n",
       "  </tbody>\n",
       "</table>\n",
       "<p>2126601 rows × 2 columns</p>\n",
       "</div>"
      ],
      "text/plain": [
       "        FIPSTATE   NAICS\n",
       "0             01  ------\n",
       "1             01  11----\n",
       "2             01  113///\n",
       "3             01  1133//\n",
       "4             01  11331/\n",
       "5             01  113310\n",
       "6             01  115///\n",
       "7             01  1151//\n",
       "8             01  11511/\n",
       "9             01  115112\n",
       "10            01  21----\n",
       "11            01  212///\n",
       "12            01  2123//\n",
       "13            01  21231/\n",
       "14            01  212319\n",
       "15            01  21232/\n",
       "16            01  212321\n",
       "17            01  22----\n",
       "18            01  221///\n",
       "19            01  2211//\n",
       "20            01  22111/\n",
       "21            01  221112\n",
       "22            01  22112/\n",
       "23            01  221122\n",
       "24            01  2213//\n",
       "25            01  22131/\n",
       "26            01  221310\n",
       "27            01  23----\n",
       "28            01  236///\n",
       "29            01  2361//\n",
       "...          ...     ...\n",
       "2126571       56  611///\n",
       "2126572       56  6113//\n",
       "2126573       56  61131/\n",
       "2126574       56  611310\n",
       "2126575       56  6117//\n",
       "2126576       56  61171/\n",
       "2126577       56  611710\n",
       "2126578       56  62----\n",
       "2126579       56  621///\n",
       "2126580       56  6213//\n",
       "2126581       56  62134/\n",
       "2126582       56  621340\n",
       "2126583       56  6214//\n",
       "2126584       56  62142/\n",
       "2126585       56  621420\n",
       "2126586       56  6216//\n",
       "2126587       56  62161/\n",
       "2126588       56  621610\n",
       "2126589       56  6219//\n",
       "2126590       56  62199/\n",
       "2126591       56  621999\n",
       "2126592       56  81----\n",
       "2126593       56  812///\n",
       "2126594       56  8129//\n",
       "2126595       56  81299/\n",
       "2126596       56  812990\n",
       "2126597       56  813///\n",
       "2126598       56  8133//\n",
       "2126599       56  81331/\n",
       "2126600       56  813312\n",
       "\n",
       "[2126601 rows x 2 columns]"
      ]
     },
     "execution_count": 47,
     "metadata": {},
     "output_type": "execute_result"
    }
   ],
   "source": [
    "cbp.loc[:, ['FIPSTATE', 'NAICS']]"
   ]
  },
  {
   "cell_type": "code",
   "execution_count": 48,
   "metadata": {},
   "outputs": [
    {
     "data": {
      "text/html": [
       "<div>\n",
       "<style scoped>\n",
       "    .dataframe tbody tr th:only-of-type {\n",
       "        vertical-align: middle;\n",
       "    }\n",
       "\n",
       "    .dataframe tbody tr th {\n",
       "        vertical-align: top;\n",
       "    }\n",
       "\n",
       "    .dataframe thead th {\n",
       "        text-align: right;\n",
       "    }\n",
       "</style>\n",
       "<table border=\"1\" class=\"dataframe\">\n",
       "  <thead>\n",
       "    <tr style=\"text-align: right;\">\n",
       "      <th></th>\n",
       "      <th>FIPSTATE</th>\n",
       "      <th>NAICS</th>\n",
       "    </tr>\n",
       "  </thead>\n",
       "  <tbody>\n",
       "    <tr>\n",
       "      <th>2</th>\n",
       "      <td>01</td>\n",
       "      <td>113///</td>\n",
       "    </tr>\n",
       "    <tr>\n",
       "      <th>3</th>\n",
       "      <td>01</td>\n",
       "      <td>1133//</td>\n",
       "    </tr>\n",
       "    <tr>\n",
       "      <th>4</th>\n",
       "      <td>01</td>\n",
       "      <td>11331/</td>\n",
       "    </tr>\n",
       "  </tbody>\n",
       "</table>\n",
       "</div>"
      ],
      "text/plain": [
       "  FIPSTATE   NAICS\n",
       "2       01  113///\n",
       "3       01  1133//\n",
       "4       01  11331/"
      ]
     },
     "execution_count": 48,
     "metadata": {},
     "output_type": "execute_result"
    }
   ],
   "source": [
    "cbp.loc[2:4, ['FIPSTATE', 'NAICS']]"
   ]
  },
  {
   "cell_type": "code",
   "execution_count": 51,
   "metadata": {},
   "outputs": [
    {
     "data": {
      "text/html": [
       "<div>\n",
       "<style scoped>\n",
       "    .dataframe tbody tr th:only-of-type {\n",
       "        vertical-align: middle;\n",
       "    }\n",
       "\n",
       "    .dataframe tbody tr th {\n",
       "        vertical-align: top;\n",
       "    }\n",
       "\n",
       "    .dataframe thead th {\n",
       "        text-align: right;\n",
       "    }\n",
       "</style>\n",
       "<table border=\"1\" class=\"dataframe\">\n",
       "  <thead>\n",
       "    <tr style=\"text-align: right;\">\n",
       "      <th></th>\n",
       "      <th>FIPSTATE</th>\n",
       "      <th>FIPSCTY</th>\n",
       "      <th>NAICS</th>\n",
       "    </tr>\n",
       "  </thead>\n",
       "  <tbody>\n",
       "    <tr>\n",
       "      <th>2</th>\n",
       "      <td>01</td>\n",
       "      <td>001</td>\n",
       "      <td>113///</td>\n",
       "    </tr>\n",
       "    <tr>\n",
       "      <th>3</th>\n",
       "      <td>01</td>\n",
       "      <td>001</td>\n",
       "      <td>1133//</td>\n",
       "    </tr>\n",
       "  </tbody>\n",
       "</table>\n",
       "</div>"
      ],
      "text/plain": [
       "  FIPSTATE FIPSCTY   NAICS\n",
       "2       01     001  113///\n",
       "3       01     001  1133//"
      ]
     },
     "execution_count": 51,
     "metadata": {},
     "output_type": "execute_result"
    }
   ],
   "source": [
    "cbp.iloc[2:4, 0:3]"
   ]
  },
  {
   "cell_type": "code",
   "execution_count": 52,
   "metadata": {},
   "outputs": [
    {
     "data": {
      "text/html": [
       "<div>\n",
       "<style scoped>\n",
       "    .dataframe tbody tr th:only-of-type {\n",
       "        vertical-align: middle;\n",
       "    }\n",
       "\n",
       "    .dataframe tbody tr th {\n",
       "        vertical-align: top;\n",
       "    }\n",
       "\n",
       "    .dataframe thead th {\n",
       "        text-align: right;\n",
       "    }\n",
       "</style>\n",
       "<table border=\"1\" class=\"dataframe\">\n",
       "  <thead>\n",
       "    <tr style=\"text-align: right;\">\n",
       "      <th></th>\n",
       "      <th>NAICS</th>\n",
       "      <th>AP</th>\n",
       "    </tr>\n",
       "  </thead>\n",
       "  <tbody>\n",
       "    <tr>\n",
       "      <th>0</th>\n",
       "      <td>------</td>\n",
       "      <td>321433</td>\n",
       "    </tr>\n",
       "    <tr>\n",
       "      <th>1</th>\n",
       "      <td>11----</td>\n",
       "      <td>3566</td>\n",
       "    </tr>\n",
       "    <tr>\n",
       "      <th>2</th>\n",
       "      <td>113///</td>\n",
       "      <td>3551</td>\n",
       "    </tr>\n",
       "    <tr>\n",
       "      <th>3</th>\n",
       "      <td>1133//</td>\n",
       "      <td>3551</td>\n",
       "    </tr>\n",
       "    <tr>\n",
       "      <th>4</th>\n",
       "      <td>11331/</td>\n",
       "      <td>3551</td>\n",
       "    </tr>\n",
       "  </tbody>\n",
       "</table>\n",
       "</div>"
      ],
      "text/plain": [
       "    NAICS      AP\n",
       "0  ------  321433\n",
       "1  11----    3566\n",
       "2  113///    3551\n",
       "3  1133//    3551\n",
       "4  11331/    3551"
      ]
     },
     "execution_count": 52,
     "metadata": {},
     "output_type": "execute_result"
    }
   ],
   "source": [
    "cbp[['NAICS', 'AP']].head()"
   ]
  },
  {
   "cell_type": "code",
   "execution_count": 53,
   "metadata": {},
   "outputs": [
    {
     "data": {
      "text/html": [
       "<div>\n",
       "<style scoped>\n",
       "    .dataframe tbody tr th:only-of-type {\n",
       "        vertical-align: middle;\n",
       "    }\n",
       "\n",
       "    .dataframe tbody tr th {\n",
       "        vertical-align: top;\n",
       "    }\n",
       "\n",
       "    .dataframe thead th {\n",
       "        text-align: right;\n",
       "    }\n",
       "</style>\n",
       "<table border=\"1\" class=\"dataframe\">\n",
       "  <thead>\n",
       "    <tr style=\"text-align: right;\">\n",
       "      <th></th>\n",
       "      <th>FIPSTATE</th>\n",
       "      <th>FIPSCTY</th>\n",
       "      <th>NAICS</th>\n",
       "      <th>EMPFLAG</th>\n",
       "      <th>EMP_NF</th>\n",
       "      <th>EMP</th>\n",
       "      <th>QP1_NF</th>\n",
       "      <th>QP1</th>\n",
       "      <th>AP_NF</th>\n",
       "      <th>AP</th>\n",
       "      <th>...</th>\n",
       "      <th>N100_249</th>\n",
       "      <th>N250_499</th>\n",
       "      <th>N500_999</th>\n",
       "      <th>N1000</th>\n",
       "      <th>N1000_1</th>\n",
       "      <th>N1000_2</th>\n",
       "      <th>N1000_3</th>\n",
       "      <th>N1000_4</th>\n",
       "      <th>CENSTATE</th>\n",
       "      <th>CENCTY</th>\n",
       "    </tr>\n",
       "  </thead>\n",
       "  <tbody>\n",
       "    <tr>\n",
       "      <th>1</th>\n",
       "      <td>01</td>\n",
       "      <td>001</td>\n",
       "      <td>11----</td>\n",
       "      <td>NaN</td>\n",
       "      <td>H</td>\n",
       "      <td>70</td>\n",
       "      <td>H</td>\n",
       "      <td>790</td>\n",
       "      <td>H</td>\n",
       "      <td>3566</td>\n",
       "      <td>...</td>\n",
       "      <td>0</td>\n",
       "      <td>0</td>\n",
       "      <td>0</td>\n",
       "      <td>0</td>\n",
       "      <td>0</td>\n",
       "      <td>0</td>\n",
       "      <td>0</td>\n",
       "      <td>0</td>\n",
       "      <td>63</td>\n",
       "      <td>1</td>\n",
       "    </tr>\n",
       "    <tr>\n",
       "      <th>10</th>\n",
       "      <td>01</td>\n",
       "      <td>001</td>\n",
       "      <td>21----</td>\n",
       "      <td>NaN</td>\n",
       "      <td>H</td>\n",
       "      <td>82</td>\n",
       "      <td>H</td>\n",
       "      <td>713</td>\n",
       "      <td>H</td>\n",
       "      <td>3294</td>\n",
       "      <td>...</td>\n",
       "      <td>0</td>\n",
       "      <td>0</td>\n",
       "      <td>0</td>\n",
       "      <td>0</td>\n",
       "      <td>0</td>\n",
       "      <td>0</td>\n",
       "      <td>0</td>\n",
       "      <td>0</td>\n",
       "      <td>63</td>\n",
       "      <td>1</td>\n",
       "    </tr>\n",
       "    <tr>\n",
       "      <th>17</th>\n",
       "      <td>01</td>\n",
       "      <td>001</td>\n",
       "      <td>22----</td>\n",
       "      <td>NaN</td>\n",
       "      <td>H</td>\n",
       "      <td>196</td>\n",
       "      <td>H</td>\n",
       "      <td>4793</td>\n",
       "      <td>H</td>\n",
       "      <td>18611</td>\n",
       "      <td>...</td>\n",
       "      <td>0</td>\n",
       "      <td>0</td>\n",
       "      <td>0</td>\n",
       "      <td>0</td>\n",
       "      <td>0</td>\n",
       "      <td>0</td>\n",
       "      <td>0</td>\n",
       "      <td>0</td>\n",
       "      <td>63</td>\n",
       "      <td>1</td>\n",
       "    </tr>\n",
       "    <tr>\n",
       "      <th>27</th>\n",
       "      <td>01</td>\n",
       "      <td>001</td>\n",
       "      <td>23----</td>\n",
       "      <td>NaN</td>\n",
       "      <td>G</td>\n",
       "      <td>372</td>\n",
       "      <td>G</td>\n",
       "      <td>2891</td>\n",
       "      <td>G</td>\n",
       "      <td>13801</td>\n",
       "      <td>...</td>\n",
       "      <td>0</td>\n",
       "      <td>0</td>\n",
       "      <td>0</td>\n",
       "      <td>0</td>\n",
       "      <td>0</td>\n",
       "      <td>0</td>\n",
       "      <td>0</td>\n",
       "      <td>0</td>\n",
       "      <td>63</td>\n",
       "      <td>1</td>\n",
       "    </tr>\n",
       "    <tr>\n",
       "      <th>93</th>\n",
       "      <td>01</td>\n",
       "      <td>001</td>\n",
       "      <td>31----</td>\n",
       "      <td>NaN</td>\n",
       "      <td>H</td>\n",
       "      <td>971</td>\n",
       "      <td>H</td>\n",
       "      <td>15386</td>\n",
       "      <td>H</td>\n",
       "      <td>64263</td>\n",
       "      <td>...</td>\n",
       "      <td>0</td>\n",
       "      <td>0</td>\n",
       "      <td>1</td>\n",
       "      <td>0</td>\n",
       "      <td>0</td>\n",
       "      <td>0</td>\n",
       "      <td>0</td>\n",
       "      <td>0</td>\n",
       "      <td>63</td>\n",
       "      <td>1</td>\n",
       "    </tr>\n",
       "  </tbody>\n",
       "</table>\n",
       "<p>5 rows × 26 columns</p>\n",
       "</div>"
      ],
      "text/plain": [
       "   FIPSTATE FIPSCTY   NAICS EMPFLAG EMP_NF  EMP QP1_NF    QP1 AP_NF     AP  \\\n",
       "1        01     001  11----     NaN      H   70      H    790     H   3566   \n",
       "10       01     001  21----     NaN      H   82      H    713     H   3294   \n",
       "17       01     001  22----     NaN      H  196      H   4793     H  18611   \n",
       "27       01     001  23----     NaN      G  372      G   2891     G  13801   \n",
       "93       01     001  31----     NaN      H  971      H  15386     H  64263   \n",
       "\n",
       "     ...    N100_249  N250_499  N500_999  N1000  N1000_1  N1000_2  N1000_3  \\\n",
       "1    ...           0         0         0      0        0        0        0   \n",
       "10   ...           0         0         0      0        0        0        0   \n",
       "17   ...           0         0         0      0        0        0        0   \n",
       "27   ...           0         0         0      0        0        0        0   \n",
       "93   ...           0         0         1      0        0        0        0   \n",
       "\n",
       "    N1000_4  CENSTATE  CENCTY  \n",
       "1         0        63       1  \n",
       "10        0        63       1  \n",
       "17        0        63       1  \n",
       "27        0        63       1  \n",
       "93        0        63       1  \n",
       "\n",
       "[5 rows x 26 columns]"
      ]
     },
     "execution_count": 53,
     "metadata": {},
     "output_type": "execute_result"
    }
   ],
   "source": [
    "logical_idx = cbp['NAICS'].str.match('^[0-9]{2}----')\n",
    "cbp = cbp.loc[logical_idx]\n",
    "cbp.head()"
   ]
  },
  {
   "cell_type": "code",
   "execution_count": 55,
   "metadata": {},
   "outputs": [
    {
     "name": "stderr",
     "output_type": "stream",
     "text": [
      "/usr/local/lib/python3.5/dist-packages/ipykernel_launcher.py:1: SettingWithCopyWarning: \n",
      "A value is trying to be set on a copy of a slice from a DataFrame.\n",
      "Try using .loc[row_indexer,col_indexer] = value instead\n",
      "\n",
      "See the caveats in the documentation: http://pandas.pydata.org/pandas-docs/stable/indexing.html#indexing-view-versus-copy\n",
      "  \"\"\"Entry point for launching an IPython kernel.\n"
     ]
    },
    {
     "data": {
      "text/html": [
       "<div>\n",
       "<style scoped>\n",
       "    .dataframe tbody tr th:only-of-type {\n",
       "        vertical-align: middle;\n",
       "    }\n",
       "\n",
       "    .dataframe tbody tr th {\n",
       "        vertical-align: top;\n",
       "    }\n",
       "\n",
       "    .dataframe thead th {\n",
       "        text-align: right;\n",
       "    }\n",
       "</style>\n",
       "<table border=\"1\" class=\"dataframe\">\n",
       "  <thead>\n",
       "    <tr style=\"text-align: right;\">\n",
       "      <th></th>\n",
       "      <th>FIPSTATE</th>\n",
       "      <th>FIPSCTY</th>\n",
       "      <th>NAICS</th>\n",
       "      <th>EMPFLAG</th>\n",
       "      <th>EMP_NF</th>\n",
       "      <th>EMP</th>\n",
       "      <th>QP1_NF</th>\n",
       "      <th>QP1</th>\n",
       "      <th>AP_NF</th>\n",
       "      <th>AP</th>\n",
       "      <th>...</th>\n",
       "      <th>N250_499</th>\n",
       "      <th>N500_999</th>\n",
       "      <th>N1000</th>\n",
       "      <th>N1000_1</th>\n",
       "      <th>N1000_2</th>\n",
       "      <th>N1000_3</th>\n",
       "      <th>N1000_4</th>\n",
       "      <th>CENSTATE</th>\n",
       "      <th>CENCTY</th>\n",
       "      <th>FIPS</th>\n",
       "    </tr>\n",
       "  </thead>\n",
       "  <tbody>\n",
       "    <tr>\n",
       "      <th>1</th>\n",
       "      <td>01</td>\n",
       "      <td>001</td>\n",
       "      <td>11----</td>\n",
       "      <td>NaN</td>\n",
       "      <td>H</td>\n",
       "      <td>70</td>\n",
       "      <td>H</td>\n",
       "      <td>790</td>\n",
       "      <td>H</td>\n",
       "      <td>3566</td>\n",
       "      <td>...</td>\n",
       "      <td>0</td>\n",
       "      <td>0</td>\n",
       "      <td>0</td>\n",
       "      <td>0</td>\n",
       "      <td>0</td>\n",
       "      <td>0</td>\n",
       "      <td>0</td>\n",
       "      <td>63</td>\n",
       "      <td>1</td>\n",
       "      <td>01001</td>\n",
       "    </tr>\n",
       "    <tr>\n",
       "      <th>10</th>\n",
       "      <td>01</td>\n",
       "      <td>001</td>\n",
       "      <td>21----</td>\n",
       "      <td>NaN</td>\n",
       "      <td>H</td>\n",
       "      <td>82</td>\n",
       "      <td>H</td>\n",
       "      <td>713</td>\n",
       "      <td>H</td>\n",
       "      <td>3294</td>\n",
       "      <td>...</td>\n",
       "      <td>0</td>\n",
       "      <td>0</td>\n",
       "      <td>0</td>\n",
       "      <td>0</td>\n",
       "      <td>0</td>\n",
       "      <td>0</td>\n",
       "      <td>0</td>\n",
       "      <td>63</td>\n",
       "      <td>1</td>\n",
       "      <td>01001</td>\n",
       "    </tr>\n",
       "    <tr>\n",
       "      <th>17</th>\n",
       "      <td>01</td>\n",
       "      <td>001</td>\n",
       "      <td>22----</td>\n",
       "      <td>NaN</td>\n",
       "      <td>H</td>\n",
       "      <td>196</td>\n",
       "      <td>H</td>\n",
       "      <td>4793</td>\n",
       "      <td>H</td>\n",
       "      <td>18611</td>\n",
       "      <td>...</td>\n",
       "      <td>0</td>\n",
       "      <td>0</td>\n",
       "      <td>0</td>\n",
       "      <td>0</td>\n",
       "      <td>0</td>\n",
       "      <td>0</td>\n",
       "      <td>0</td>\n",
       "      <td>63</td>\n",
       "      <td>1</td>\n",
       "      <td>01001</td>\n",
       "    </tr>\n",
       "    <tr>\n",
       "      <th>27</th>\n",
       "      <td>01</td>\n",
       "      <td>001</td>\n",
       "      <td>23----</td>\n",
       "      <td>NaN</td>\n",
       "      <td>G</td>\n",
       "      <td>372</td>\n",
       "      <td>G</td>\n",
       "      <td>2891</td>\n",
       "      <td>G</td>\n",
       "      <td>13801</td>\n",
       "      <td>...</td>\n",
       "      <td>0</td>\n",
       "      <td>0</td>\n",
       "      <td>0</td>\n",
       "      <td>0</td>\n",
       "      <td>0</td>\n",
       "      <td>0</td>\n",
       "      <td>0</td>\n",
       "      <td>63</td>\n",
       "      <td>1</td>\n",
       "      <td>01001</td>\n",
       "    </tr>\n",
       "    <tr>\n",
       "      <th>93</th>\n",
       "      <td>01</td>\n",
       "      <td>001</td>\n",
       "      <td>31----</td>\n",
       "      <td>NaN</td>\n",
       "      <td>H</td>\n",
       "      <td>971</td>\n",
       "      <td>H</td>\n",
       "      <td>15386</td>\n",
       "      <td>H</td>\n",
       "      <td>64263</td>\n",
       "      <td>...</td>\n",
       "      <td>0</td>\n",
       "      <td>1</td>\n",
       "      <td>0</td>\n",
       "      <td>0</td>\n",
       "      <td>0</td>\n",
       "      <td>0</td>\n",
       "      <td>0</td>\n",
       "      <td>63</td>\n",
       "      <td>1</td>\n",
       "      <td>01001</td>\n",
       "    </tr>\n",
       "  </tbody>\n",
       "</table>\n",
       "<p>5 rows × 27 columns</p>\n",
       "</div>"
      ],
      "text/plain": [
       "   FIPSTATE FIPSCTY   NAICS EMPFLAG EMP_NF  EMP QP1_NF    QP1 AP_NF     AP  \\\n",
       "1        01     001  11----     NaN      H   70      H    790     H   3566   \n",
       "10       01     001  21----     NaN      H   82      H    713     H   3294   \n",
       "17       01     001  22----     NaN      H  196      H   4793     H  18611   \n",
       "27       01     001  23----     NaN      G  372      G   2891     G  13801   \n",
       "93       01     001  31----     NaN      H  971      H  15386     H  64263   \n",
       "\n",
       "    ...    N250_499  N500_999  N1000  N1000_1  N1000_2  N1000_3  N1000_4  \\\n",
       "1   ...           0         0      0        0        0        0        0   \n",
       "10  ...           0         0      0        0        0        0        0   \n",
       "17  ...           0         0      0        0        0        0        0   \n",
       "27  ...           0         0      0        0        0        0        0   \n",
       "93  ...           0         1      0        0        0        0        0   \n",
       "\n",
       "    CENSTATE  CENCTY   FIPS  \n",
       "1         63       1  01001  \n",
       "10        63       1  01001  \n",
       "17        63       1  01001  \n",
       "27        63       1  01001  \n",
       "93        63       1  01001  \n",
       "\n",
       "[5 rows x 27 columns]"
      ]
     },
     "execution_count": 55,
     "metadata": {},
     "output_type": "execute_result"
    }
   ],
   "source": [
    "cbp['FIPS'] = cbp['FIPSTATE'].str.cat(cbp['FIPSCTY'])\n",
    "cbp.head()"
   ]
  },
  {
   "cell_type": "markdown",
   "metadata": {},
   "source": [
    "### Index"
   ]
  },
  {
   "cell_type": "code",
   "execution_count": 56,
   "metadata": {},
   "outputs": [
    {
     "data": {
      "text/html": [
       "<div>\n",
       "<style scoped>\n",
       "    .dataframe tbody tr th:only-of-type {\n",
       "        vertical-align: middle;\n",
       "    }\n",
       "\n",
       "    .dataframe tbody tr th {\n",
       "        vertical-align: top;\n",
       "    }\n",
       "\n",
       "    .dataframe thead th {\n",
       "        text-align: right;\n",
       "    }\n",
       "</style>\n",
       "<table border=\"1\" class=\"dataframe\">\n",
       "  <thead>\n",
       "    <tr style=\"text-align: right;\">\n",
       "      <th></th>\n",
       "      <th></th>\n",
       "      <th>FIPSTATE</th>\n",
       "      <th>FIPSCTY</th>\n",
       "      <th>EMPFLAG</th>\n",
       "      <th>EMP_NF</th>\n",
       "      <th>EMP</th>\n",
       "      <th>QP1_NF</th>\n",
       "      <th>QP1</th>\n",
       "      <th>AP_NF</th>\n",
       "      <th>AP</th>\n",
       "      <th>EST</th>\n",
       "      <th>...</th>\n",
       "      <th>N100_249</th>\n",
       "      <th>N250_499</th>\n",
       "      <th>N500_999</th>\n",
       "      <th>N1000</th>\n",
       "      <th>N1000_1</th>\n",
       "      <th>N1000_2</th>\n",
       "      <th>N1000_3</th>\n",
       "      <th>N1000_4</th>\n",
       "      <th>CENSTATE</th>\n",
       "      <th>CENCTY</th>\n",
       "    </tr>\n",
       "    <tr>\n",
       "      <th>FIPS</th>\n",
       "      <th>NAICS</th>\n",
       "      <th></th>\n",
       "      <th></th>\n",
       "      <th></th>\n",
       "      <th></th>\n",
       "      <th></th>\n",
       "      <th></th>\n",
       "      <th></th>\n",
       "      <th></th>\n",
       "      <th></th>\n",
       "      <th></th>\n",
       "      <th></th>\n",
       "      <th></th>\n",
       "      <th></th>\n",
       "      <th></th>\n",
       "      <th></th>\n",
       "      <th></th>\n",
       "      <th></th>\n",
       "      <th></th>\n",
       "      <th></th>\n",
       "      <th></th>\n",
       "      <th></th>\n",
       "    </tr>\n",
       "  </thead>\n",
       "  <tbody>\n",
       "    <tr>\n",
       "      <th rowspan=\"5\" valign=\"top\">01001</th>\n",
       "      <th>11----</th>\n",
       "      <td>01</td>\n",
       "      <td>001</td>\n",
       "      <td>NaN</td>\n",
       "      <td>H</td>\n",
       "      <td>70</td>\n",
       "      <td>H</td>\n",
       "      <td>790</td>\n",
       "      <td>H</td>\n",
       "      <td>3566</td>\n",
       "      <td>7</td>\n",
       "      <td>...</td>\n",
       "      <td>0</td>\n",
       "      <td>0</td>\n",
       "      <td>0</td>\n",
       "      <td>0</td>\n",
       "      <td>0</td>\n",
       "      <td>0</td>\n",
       "      <td>0</td>\n",
       "      <td>0</td>\n",
       "      <td>63</td>\n",
       "      <td>1</td>\n",
       "    </tr>\n",
       "    <tr>\n",
       "      <th>21----</th>\n",
       "      <td>01</td>\n",
       "      <td>001</td>\n",
       "      <td>NaN</td>\n",
       "      <td>H</td>\n",
       "      <td>82</td>\n",
       "      <td>H</td>\n",
       "      <td>713</td>\n",
       "      <td>H</td>\n",
       "      <td>3294</td>\n",
       "      <td>3</td>\n",
       "      <td>...</td>\n",
       "      <td>0</td>\n",
       "      <td>0</td>\n",
       "      <td>0</td>\n",
       "      <td>0</td>\n",
       "      <td>0</td>\n",
       "      <td>0</td>\n",
       "      <td>0</td>\n",
       "      <td>0</td>\n",
       "      <td>63</td>\n",
       "      <td>1</td>\n",
       "    </tr>\n",
       "    <tr>\n",
       "      <th>22----</th>\n",
       "      <td>01</td>\n",
       "      <td>001</td>\n",
       "      <td>NaN</td>\n",
       "      <td>H</td>\n",
       "      <td>196</td>\n",
       "      <td>H</td>\n",
       "      <td>4793</td>\n",
       "      <td>H</td>\n",
       "      <td>18611</td>\n",
       "      <td>9</td>\n",
       "      <td>...</td>\n",
       "      <td>0</td>\n",
       "      <td>0</td>\n",
       "      <td>0</td>\n",
       "      <td>0</td>\n",
       "      <td>0</td>\n",
       "      <td>0</td>\n",
       "      <td>0</td>\n",
       "      <td>0</td>\n",
       "      <td>63</td>\n",
       "      <td>1</td>\n",
       "    </tr>\n",
       "    <tr>\n",
       "      <th>23----</th>\n",
       "      <td>01</td>\n",
       "      <td>001</td>\n",
       "      <td>NaN</td>\n",
       "      <td>G</td>\n",
       "      <td>372</td>\n",
       "      <td>G</td>\n",
       "      <td>2891</td>\n",
       "      <td>G</td>\n",
       "      <td>13801</td>\n",
       "      <td>75</td>\n",
       "      <td>...</td>\n",
       "      <td>0</td>\n",
       "      <td>0</td>\n",
       "      <td>0</td>\n",
       "      <td>0</td>\n",
       "      <td>0</td>\n",
       "      <td>0</td>\n",
       "      <td>0</td>\n",
       "      <td>0</td>\n",
       "      <td>63</td>\n",
       "      <td>1</td>\n",
       "    </tr>\n",
       "    <tr>\n",
       "      <th>31----</th>\n",
       "      <td>01</td>\n",
       "      <td>001</td>\n",
       "      <td>NaN</td>\n",
       "      <td>H</td>\n",
       "      <td>971</td>\n",
       "      <td>H</td>\n",
       "      <td>15386</td>\n",
       "      <td>H</td>\n",
       "      <td>64263</td>\n",
       "      <td>24</td>\n",
       "      <td>...</td>\n",
       "      <td>0</td>\n",
       "      <td>0</td>\n",
       "      <td>1</td>\n",
       "      <td>0</td>\n",
       "      <td>0</td>\n",
       "      <td>0</td>\n",
       "      <td>0</td>\n",
       "      <td>0</td>\n",
       "      <td>63</td>\n",
       "      <td>1</td>\n",
       "    </tr>\n",
       "  </tbody>\n",
       "</table>\n",
       "<p>5 rows × 25 columns</p>\n",
       "</div>"
      ],
      "text/plain": [
       "             FIPSTATE FIPSCTY EMPFLAG EMP_NF  EMP QP1_NF    QP1 AP_NF     AP  \\\n",
       "FIPS  NAICS                                                                    \n",
       "01001 11----       01     001     NaN      H   70      H    790     H   3566   \n",
       "      21----       01     001     NaN      H   82      H    713     H   3294   \n",
       "      22----       01     001     NaN      H  196      H   4793     H  18611   \n",
       "      23----       01     001     NaN      G  372      G   2891     G  13801   \n",
       "      31----       01     001     NaN      H  971      H  15386     H  64263   \n",
       "\n",
       "              EST   ...    N100_249  N250_499  N500_999  N1000  N1000_1  \\\n",
       "FIPS  NAICS         ...                                                   \n",
       "01001 11----    7   ...           0         0         0      0        0   \n",
       "      21----    3   ...           0         0         0      0        0   \n",
       "      22----    9   ...           0         0         0      0        0   \n",
       "      23----   75   ...           0         0         0      0        0   \n",
       "      31----   24   ...           0         0         1      0        0   \n",
       "\n",
       "              N1000_2  N1000_3  N1000_4  CENSTATE  CENCTY  \n",
       "FIPS  NAICS                                                \n",
       "01001 11----        0        0        0        63       1  \n",
       "      21----        0        0        0        63       1  \n",
       "      22----        0        0        0        63       1  \n",
       "      23----        0        0        0        63       1  \n",
       "      31----        0        0        0        63       1  \n",
       "\n",
       "[5 rows x 25 columns]"
      ]
     },
     "execution_count": 56,
     "metadata": {},
     "output_type": "execute_result"
    }
   ],
   "source": [
    "cbp = cbp.set_index(['FIPS', 'NAICS'])\n",
    "cbp.head()"
   ]
  },
  {
   "cell_type": "code",
   "execution_count": 57,
   "metadata": {},
   "outputs": [],
   "source": [
    "cbp = cbp[['EMP', 'AP']].unstack(fill_value = 0)"
   ]
  },
  {
   "cell_type": "code",
   "execution_count": 59,
   "metadata": {},
   "outputs": [
    {
     "data": {
      "text/html": [
       "<div>\n",
       "<style scoped>\n",
       "    .dataframe tbody tr th:only-of-type {\n",
       "        vertical-align: middle;\n",
       "    }\n",
       "\n",
       "    .dataframe tbody tr th {\n",
       "        vertical-align: top;\n",
       "    }\n",
       "\n",
       "    .dataframe thead th {\n",
       "        text-align: right;\n",
       "    }\n",
       "</style>\n",
       "<table border=\"1\" class=\"dataframe\">\n",
       "  <thead>\n",
       "    <tr style=\"text-align: right;\">\n",
       "      <th>NAICS</th>\n",
       "      <th>11----</th>\n",
       "      <th>72----</th>\n",
       "    </tr>\n",
       "    <tr>\n",
       "      <th>FIPS</th>\n",
       "      <th></th>\n",
       "      <th></th>\n",
       "    </tr>\n",
       "  </thead>\n",
       "  <tbody>\n",
       "    <tr>\n",
       "      <th>01001</th>\n",
       "      <td>70</td>\n",
       "      <td>2091</td>\n",
       "    </tr>\n",
       "    <tr>\n",
       "      <th>01003</th>\n",
       "      <td>14</td>\n",
       "      <td>12081</td>\n",
       "    </tr>\n",
       "    <tr>\n",
       "      <th>01005</th>\n",
       "      <td>180</td>\n",
       "      <td>594</td>\n",
       "    </tr>\n",
       "    <tr>\n",
       "      <th>01007</th>\n",
       "      <td>70</td>\n",
       "      <td>306</td>\n",
       "    </tr>\n",
       "    <tr>\n",
       "      <th>01009</th>\n",
       "      <td>10</td>\n",
       "      <td>679</td>\n",
       "    </tr>\n",
       "  </tbody>\n",
       "</table>\n",
       "</div>"
      ],
      "text/plain": [
       "NAICS  11----  72----\n",
       "FIPS                 \n",
       "01001      70    2091\n",
       "01003      14   12081\n",
       "01005     180     594\n",
       "01007      70     306\n",
       "01009      10     679"
      ]
     },
     "execution_count": 59,
     "metadata": {},
     "output_type": "execute_result"
    }
   ],
   "source": [
    "income = cbp['EMP']\n",
    "income = income.loc[:, ['11----', '72----']]\n",
    "income.head()"
   ]
  },
  {
   "cell_type": "markdown",
   "metadata": {},
   "source": [
    "### Classification"
   ]
  },
  {
   "cell_type": "markdown",
   "metadata": {},
   "source": [
    "This section is using machine learning to classify counties by urban or rural (using support vector machines)"
   ]
  },
  {
   "cell_type": "code",
   "execution_count": 60,
   "metadata": {},
   "outputs": [],
   "source": [
    "rural_urban = pd.read_csv(\n",
    "    'data/ruralurbancodes2013.csv',\n",
    "    dtype={'FIPS':'str'},\n",
    "    ).set_index('FIPS')\n",
    "rural_urban['Metro'] = rural_urban['RUCC_2013'] < 4"
   ]
  },
  {
   "cell_type": "code",
   "execution_count": 62,
   "metadata": {},
   "outputs": [],
   "source": [
    "income_rural_urban = income.join(\n",
    "    rural_urban['Metro'],\n",
    "    how = 'inner',\n",
    "    )"
   ]
  },
  {
   "cell_type": "code",
   "execution_count": 64,
   "metadata": {},
   "outputs": [],
   "source": [
    "import numpy as np\n",
    "\n",
    "# choose training dataset as random sample of total\n",
    "train = income_rural_urban.sample(\n",
    "    frac = 0.5,\n",
    "    random_state = np.random.seed(345))"
   ]
  },
  {
   "cell_type": "code",
   "execution_count": 69,
   "metadata": {},
   "outputs": [
    {
     "data": {
      "text/plain": [
       "LinearSVC(C=1.0, class_weight=None, dual=True, fit_intercept=True,\n",
       "     intercept_scaling=1, loss='squared_hinge', max_iter=1000,\n",
       "     multi_class='ovr', penalty='l2', random_state=None, tol=0.0001,\n",
       "     verbose=0)"
      ]
     },
     "execution_count": 69,
     "metadata": {},
     "output_type": "execute_result"
    }
   ],
   "source": [
    "# import part of a library\n",
    "from sklearn import svm\n",
    "ml = svm.LinearSVC()\n",
    "\n",
    "# predictors transformed b/c heavily skewed\n",
    "X = train.drop('Metro', axis=1).values[:, :2]\n",
    "X = np.log(1 + X)\n",
    "y = train['Metro'].values.astype(int)\n",
    "\n",
    "ml.fit(X, y)"
   ]
  },
  {
   "cell_type": "code",
   "execution_count": 70,
   "metadata": {},
   "outputs": [
    {
     "data": {
      "text/plain": [
       "array([[355, 238],\n",
       "       [109, 869]])"
      ]
     },
     "execution_count": 70,
     "metadata": {},
     "output_type": "execute_result"
    }
   ],
   "source": [
    "# evaluate classifier fit\n",
    "from sklearn import metrics\n",
    "\n",
    "# show combinations of true-true, true-false, false-false, false-true\n",
    "metrics.confusion_matrix(y, ml.predict(X), (True, False))"
   ]
  },
  {
   "cell_type": "code",
   "execution_count": 72,
   "metadata": {},
   "outputs": [
    {
     "data": {
      "text/plain": [
       "<matplotlib.axes._subplots.AxesSubplot at 0x7f5b7a0abe48>"
      ]
     },
     "execution_count": 72,
     "metadata": {},
     "output_type": "execute_result"
    },
    {
     "data": {
      "image/png": "[encoded data removed]",
      "text/plain": [
       "<matplotlib.figure.Figure at 0x7f5b7a10d5f8>"
      ]
     },
     "metadata": {},
     "output_type": "display_data"
    }
   ],
   "source": [
    "from mlxtend.plotting import plot_decision_regions\n",
    "\n",
    "plot_decision_regions(X, y, clf=ml, legend=2)"
   ]
  },
  {
   "cell_type": "markdown",
   "metadata": {},
   "source": [
    "### Kernel Method"
   ]
  },
  {
   "cell_type": "markdown",
   "metadata": {},
   "source": [
    "Use different method (svm.SVC instead of linear) to look at non-linear relationships. rbf is a type of algorithm the kernel allows."
   ]
  },
  {
   "cell_type": "code",
   "execution_count": 76,
   "metadata": {},
   "outputs": [
    {
     "data": {
      "text/plain": [
       "SVC(C=1, cache_size=200, class_weight=None, coef0=0.0,\n",
       "  decision_function_shape='ovr', degree=3, gamma='auto', kernel='rbf',\n",
       "  max_iter=-1, probability=False, random_state=None, shrinking=True,\n",
       "  tol=0.001, verbose=False)"
      ]
     },
     "execution_count": 76,
     "metadata": {},
     "output_type": "execute_result"
    }
   ],
   "source": [
    "ml = svm.SVC(kernel = 'rbf', C=1, gamma='auto')\n",
    "ml.fit(X, y)"
   ]
  },
  {
   "cell_type": "code",
   "execution_count": 77,
   "metadata": {},
   "outputs": [
    {
     "data": {
      "text/plain": [
       "array([[322, 271],\n",
       "       [ 35, 943]])"
      ]
     },
     "execution_count": 77,
     "metadata": {},
     "output_type": "execute_result"
    }
   ],
   "source": [
    "metrics.confusion_matrix(y, ml.predict(X), (True, False))"
   ]
  },
  {
   "cell_type": "code",
   "execution_count": 78,
   "metadata": {},
   "outputs": [
    {
     "data": {
      "text/plain": [
       "<matplotlib.axes._subplots.AxesSubplot at 0x7f5b79ff95f8>"
      ]
     },
     "execution_count": 78,
     "metadata": {},
     "output_type": "execute_result"
    },
    {
     "data": {
      "image/png": "[encoded data removed]",
      "text/plain": [
       "<matplotlib.figure.Figure at 0x7f5b7a079da0>"
      ]
     },
     "metadata": {},
     "output_type": "display_data"
    }
   ],
   "source": [
    "plot_decision_regions(X, y, clf=ml, legend=2)"
   ]
  },
  {
   "cell_type": "code",
   "execution_count": null,
   "metadata": {},
   "outputs": [],
   "source": []
  }
 ],
 "metadata": {
  "kernelspec": {
   "display_name": "Python 3",
   "language": "python",
   "name": "python3"
  },
  "language_info": {
   "codemirror_mode": {
    "name": "ipython",
    "version": 3
   },
   "file_extension": ".py",
   "mimetype": "text/x-python",
   "name": "python",
   "nbconvert_exporter": "python",
   "pygments_lexer": "ipython3",
   "version": "3.5.3"
  }
 },
 "nbformat": 4,
 "nbformat_minor": 2
}
